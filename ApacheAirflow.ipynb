{
  "nbformat": 4,
  "nbformat_minor": 0,
  "metadata": {
    "colab": {
      "provenance": [],
      "authorship_tag": "ABX9TyOT0lbDGxfZt4KND9yKk6bZ",
      "include_colab_link": true
    },
    "kernelspec": {
      "name": "python3",
      "display_name": "Python 3"
    },
    "language_info": {
      "name": "python"
    }
  },
  "cells": [
    {
      "cell_type": "markdown",
      "metadata": {
        "id": "view-in-github",
        "colab_type": "text"
      },
      "source": [
        "<a href=\"https://colab.research.google.com/github/Willy-Angole/Datacamp-Engineering/blob/main/ApacheAirflow.ipynb\" target=\"_parent\"><img src=\"https://colab.research.google.com/assets/colab-badge.svg\" alt=\"Open In Colab\"/></a>"
      ]
    },
    {
      "cell_type": "code",
      "source": [
        "!pip install apache-airflow"
      ],
      "metadata": {
        "id": "CgYmy_DNYq71"
      },
      "execution_count": null,
      "outputs": []
    },
    {
      "cell_type": "code",
      "source": [
        "from datetime import datetime\n",
        "from airflow import DAG\n",
        "from airflow.decorators import task\n",
        "from airflow.operators.bash import BashOperator"
      ],
      "metadata": {
        "id": "Q2GkOXSLX2ju"
      },
      "execution_count": null,
      "outputs": []
    },
    {
      "cell_type": "code",
      "source": [
        "#create a daily workflow\n",
        "with DAG(dag_id=\"demo\", start_date=datetime(2023, 8, 15), schedule=\"0 0 * * *\") as dag:\n",
        "\n",
        "  #represent a task\n",
        "  hello = BashOperator(task_id=\"hello\", bash_command=\"shout hello\")\n",
        "\n",
        "  @task()\n",
        "  def airflow():\n",
        "    print(\"Airflow\")\n",
        "\n",
        "    #set dependencies between tasks\n",
        "    hello >> airflow()"
      ],
      "metadata": {
        "id": "-2MGL6fNayy7"
      },
      "execution_count": null,
      "outputs": []
    },
    {
      "cell_type": "code",
      "source": [
        "#create another pipeline"
      ],
      "metadata": {
        "id": "ZzmwTMkesw16"
      },
      "execution_count": 1,
      "outputs": []
    },
    {
      "cell_type": "code",
      "source": [],
      "metadata": {
        "id": "WUdeS7RSs1Vg"
      },
      "execution_count": null,
      "outputs": []
    }
  ]
}